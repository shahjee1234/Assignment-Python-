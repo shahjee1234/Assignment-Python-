{
 "cells": [
  {
   "cell_type": "code",
   "execution_count": 1,
   "metadata": {},
   "outputs": [
    {
     "name": "stdout",
     "output_type": "stream",
     "text": [
      "Enter First Number9\n",
      "Enter First Number2\n",
      "Enter OperatorPower\n",
      "81 answer\n"
     ]
    }
   ],
   "source": [
    "x = input(\"Enter First Number\")\n",
    "y = input(\"Enter First Number\")\n",
    "operator = input(\"Enter Operator\")\n",
    "x = int(x)\n",
    "y = int(y)\n",
    "if operator == 'Addition':\n",
    "    z = x + y\n",
    "    print(z,\"answer\")\n",
    "elif operator == 'Subtraction':\n",
    "    z = x - y\n",
    "    print(z,\"answer\")\n",
    "elif operator == 'Multiplication':\n",
    "    z = x * y\n",
    "    print(z,\"answer\")\n",
    "elif operator == 'Division':\n",
    "    z = x / y\n",
    "    print(z,\"answer\")\n",
    "elif operator == 'Power':\n",
    "    z = x ** y\n",
    "    print(z,'answer')\n",
    "else:\n",
    "    Print(\"Please Enter Correct Operator\")"
   ]
  },
  {
   "cell_type": "code",
   "execution_count": 2,
   "metadata": {},
   "outputs": [
    {
     "name": "stdout",
     "output_type": "stream",
     "text": [
      "Checking if 7 exists in list ( using loop ) : \n",
      "Element Exists\n",
      "Checking if 7 exists in list ( using in ) : \n",
      "Element Exists\n"
     ]
    }
   ],
   "source": [
    "test_list = [ 1, 6, 3, 5, 3, 4, 7  ] \n",
    "  \n",
    "print(\"Checking if 7 exists in list ( using loop ) : \") \n",
    "for i in test_list: \n",
    "    if(i == 7) : \n",
    "        print (\"Element Exists\") \n",
    "  \n",
    "print(\"Checking if 7 exists in list ( using in ) : \") \n",
    "  \n",
    "\n",
    "if (7 in test_list): \n",
    "    print (\"Element Exists\") "
   ]
  },
  {
   "cell_type": "code",
   "execution_count": 3,
   "metadata": {},
   "outputs": [
    {
     "name": "stdout",
     "output_type": "stream",
     "text": [
      "Sum : 2400\n"
     ]
    }
   ],
   "source": [
    "def returnSum(myDict): \n",
    "      \n",
    "    sum = 0\n",
    "    for i in myDict: \n",
    "        sum = sum + myDict[i] \n",
    "      \n",
    "    return sum\n",
    "  \n",
    "\n",
    "dict = {'x': 500, 'y':900, 'z':1000} \n",
    "print(\"Sum :\", returnSum(dict)) "
   ]
  },
  {
   "cell_type": "code",
   "execution_count": 4,
   "metadata": {},
   "outputs": [
    {
     "name": "stdout",
     "output_type": "stream",
     "text": [
      "{'first name': 'Ahmed', 'last name': 'Khan', 'email': 'abc@gmail.com', 'address': 'xyz town'}\n"
     ]
    }
   ],
   "source": [
    "User = {\n",
    "    \"first name\": \"Ahmed\",\n",
    "    \"last name\": \"Khan\",\n",
    "    \"email\": \"abc@gmail.com\"\n",
    "}\n",
    "User[\"address\"] = \"xyz town\"\n",
    "print(User)"
   ]
  },
  {
   "cell_type": "code",
   "execution_count": 5,
   "metadata": {},
   "outputs": [
    {
     "name": "stdout",
     "output_type": "stream",
     "text": [
      "[70, 87, 76, 1]\n"
     ]
    }
   ],
   "source": [
    "def Repeat(x): \n",
    "    _size = len(x) \n",
    "    repeated = [] \n",
    "    for i in range(_size): \n",
    "        l = i + 1\n",
    "        for j in range(l, _size): \n",
    "            if x[i] == x[j] and x[i] not in repeated: \n",
    "                repeated.append(x[i]) \n",
    "    return repeated \n",
    "  \n",
    "\n",
    "list1 = [70,80,87,90,78,70,76,1,8,1,7,87,89,76,1]  \n",
    "         \n",
    "print (Repeat(list1)) "
   ]
  },
  {
   "cell_type": "code",
   "execution_count": 6,
   "metadata": {},
   "outputs": [
    {
     "name": "stdout",
     "output_type": "stream",
     "text": [
      "Present,  value = 600\n",
      "Not present\n"
     ]
    }
   ],
   "source": [
    "def checkKey(dict, key): \n",
    "      \n",
    "    if key in dict.keys(): \n",
    "        print(\"Present, \", end =\" \") \n",
    "        print(\"value =\", dict[key]) \n",
    "    else: \n",
    "        print(\"Not present\") \n",
    "  \n",
    "\n",
    "dict = {'x': 700, 'y':800, 'z':600} \n",
    "  \n",
    "key = 'z'\n",
    "checkKey(dict, key) \n",
    "  \n",
    "key = 'a'\n",
    "checkKey(dict, key) "
   ]
  },
  {
   "cell_type": "code",
   "execution_count": null,
   "metadata": {},
   "outputs": [],
   "source": []
  }
 ],
 "metadata": {
  "kernelspec": {
   "display_name": "Python 3",
   "language": "python",
   "name": "python3"
  },
  "language_info": {
   "codemirror_mode": {
    "name": "ipython",
    "version": 3
   },
   "file_extension": ".py",
   "mimetype": "text/x-python",
   "name": "python",
   "nbconvert_exporter": "python",
   "pygments_lexer": "ipython3",
   "version": "3.7.4"
  }
 },
 "nbformat": 4,
 "nbformat_minor": 2
}
