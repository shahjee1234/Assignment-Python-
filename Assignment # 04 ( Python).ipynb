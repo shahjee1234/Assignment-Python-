{
 "cells": [
  {
   "cell_type": "code",
   "execution_count": 1,
   "metadata": {},
   "outputs": [
    {
     "name": "stdout",
     "output_type": "stream",
     "text": [
      "First Name :  mubashir\n",
      "Last Name :  ahmed\n",
      "Age :  20\n",
      "City :  karachi\n",
      "Qualification :  Enter\n",
      "Update Your Qualification : Computer Engineer\n",
      "Success full Delete :  Enter\n"
     ]
    }
   ],
   "source": [
    "person = {\n",
    "    'first_name': 'mubashir',\n",
    "    'last_name': 'ahmed',\n",
    "    'age': 20,\n",
    "    'city': 'karachi',\n",
    "    }\n",
    "\n",
    "person_append = 'Enter'\n",
    "person_update = 'Computer Engineer'\n",
    "person_del = 'Enter'\n",
    "\n",
    "print(\"First Name : \",person['first_name'])\n",
    "print(\"Last Name : \",person['last_name'])\n",
    "print(\"Age : \",person['age'])\n",
    "print(\"City : \",person['city'])\n",
    "print(\"Qualification : \",person_append)\n",
    "print(\"Update Your Qualification :\",person_update)\n",
    "print(\"Success full Delete : \",person_del)"
   ]
  },
  {
   "cell_type": "code",
   "execution_count": 2,
   "metadata": {},
   "outputs": [
    {
     "name": "stdout",
     "output_type": "stream",
     "text": [
      "\n",
      "Karachi is in Pakistan.\n",
      "  It has a population of about 1000000.\n",
      "  The Sindh  nearby.\n",
      "\n",
      "Multan is in Pakistan.\n",
      "  It has a population of about 75006.\n",
      "  The Punjab  nearby.\n",
      "\n",
      "Peshawar is in Pakistan.\n",
      "  It has a population of about 328509.\n",
      "  The Kpk  nearby.\n"
     ]
    }
   ],
   "source": [
    "cities = {\n",
    "    'karachi': {\n",
    "        'country': 'Pakistan',\n",
    "        'population': 1000000,\n",
    "        'nearby ': 'Sindh',\n",
    "        },\n",
    "    'Multan': {\n",
    "        'country': 'Pakistan',\n",
    "        'population': 75006,\n",
    "        'nearby ': 'Punjab',\n",
    "        },\n",
    "    'Peshawar': {\n",
    "        'country': 'Pakistan',\n",
    "        'population': 328509,\n",
    "        'nearby ': 'KPK',\n",
    "        }\n",
    "    }\n",
    "\n",
    "for city, city_info in cities.items():\n",
    "    country = city_info['country'].title()\n",
    "    population = city_info['population']\n",
    "    location = city_info['nearby '].title()\n",
    "\n",
    "    print(\"\\n\" + city.title() + \" is in \" + country + \".\")\n",
    "    print(\"  It has a population of about \" + str(population) + \".\")\n",
    "    print(\"  The \" + location + \"  nearby.\")"
   ]
  },
  {
   "cell_type": "code",
   "execution_count": 3,
   "metadata": {},
   "outputs": [
    {
     "name": "stdout",
     "output_type": "stream",
     "text": [
      "How old are you?\n",
      "Enter 'quit' when you are finished. 3\n",
      "  You get in free!\n",
      "How old are you?\n",
      "Enter 'quit' when you are finished. 5\n",
      "  Your ticket is $10.\n",
      "How old are you?\n",
      "Enter 'quit' when you are finished. 14\n",
      "  Your ticket is $15.\n",
      "How old are you?\n",
      "Enter 'quit' when you are finished. quit\n"
     ]
    }
   ],
   "source": [
    "prompt = \"How old are you?\"\n",
    "prompt += \"\\nEnter 'quit' when you are finished. \"\n",
    "\n",
    "while True:\n",
    "    age = input(prompt)\n",
    "    if age == 'quit':\n",
    "        break\n",
    "    age = int(age)\n",
    "\n",
    "    if age < 4:\n",
    "        print(\"  You get in free!\")\n",
    "    elif age < 13:\n",
    "        print(\"  Your ticket is $10.\")\n",
    "    else:\n",
    "        print(\"  Your ticket is $15.\")"
   ]
  },
  {
   "cell_type": "code",
   "execution_count": 4,
   "metadata": {},
   "outputs": [
    {
     "name": "stdout",
     "output_type": "stream",
     "text": [
      "One of my favorite books is Alice in Wonderland.\n"
     ]
    }
   ],
   "source": [
    "def favorite_book(title):\n",
    "    \n",
    "    print(title + \" is Alice in Wonderland.\")\n",
    "\n",
    "favorite_book('One of my favorite books')"
   ]
  },
  {
   "cell_type": "code",
   "execution_count": null,
   "metadata": {},
   "outputs": [
    {
     "name": "stdout",
     "output_type": "stream",
     "text": [
      "gues_number.py\n",
      "GUESS NUMBER >1 AND <30 \n",
      "2\n",
      "1 <your number< 30\n",
      "4\n",
      "wrong answer, guess smaller\n",
      "1 <?< 4\n",
      "24\n",
      "wrong answer, guess smaller\n",
      "1 <?< 24\n",
      "20\n",
      "wrong answer, guess smaller\n",
      "1 <?< 20\n",
      "21\n",
      "wrong answer, guess smaller\n",
      "1 <?< 21\n",
      "16\n",
      "wrong answer, guess smaller\n",
      "1 <?< 16\n",
      "22\n",
      "wrong answer, guess smaller\n",
      "1 <?< 22\n",
      "18\n",
      "wrong answer, guess smaller\n",
      "1 <?< 18\n",
      "15\n",
      "wrong answer, guess smaller\n",
      "1 <?< 15\n",
      "12\n",
      "wrong answer, guess smaller\n",
      "1 <?< 12\n",
      "17\n",
      "wrong answer, guess smaller\n",
      "1 <?< 17\n",
      "12\n",
      "wrong answer, guess smaller\n",
      "1 <?< 12\n",
      "5\n",
      "wrong answer, guess smaller\n",
      "1 <?< 5\n",
      "4\n",
      "wrong answer, guess smaller\n",
      "1 <?< 4\n",
      "3\n",
      "wrong answer, guess smaller\n",
      "1 <?< 3\n",
      "2\n",
      "correct answer is 2\n"
     ]
    }
   ],
   "source": [
    "import random\n",
    " \n",
    "print(\"gues_number.py\")\n",
    "print(\"GUESS NUMBER >1 AND <30 \")\n",
    "answer = random.randint(1, 29)\n",
    "print(answer)\n",
    " \n",
    "maximum = 30\n",
    "maximum2 = 30\n",
    "minimum = 1\n",
    "new_min = 1\n",
    "new_max2 = 30\n",
    " \n",
    "print(minimum, \"<your number<\", maximum)\n",
    " \n",
    "while True:\n",
    "    guess = int(input())\n",
    "    if guess == answer:\n",
    "        print(\"correct answer is\", answer)\n",
    "        break\n",
    "    elif guess < answer:\n",
    "        print(\"wrong answer, guess larger\")\n",
    "        new_max = guess\n",
    "        new_min = guess\n",
    "        print(guess, \"<?<\", new_max2)\n",
    "    else:\n",
    "        answer < guess\n",
    "        print(\"wrong answer, guess smaller\")\n",
    "        new_max2 = guess\n",
    "        new_min2 = guess\n",
    "        print(new_min, \"<?<\", guess)\n",
    "input(\"Press ENTER to continue for another guess file\")\n",
    "secret_number = 24\n",
    "tries, guess = 0, 0\n",
    "while guess != secret_number:\n",
    "    guess = int(input(\"Guess a number (<30): \"))\n",
    "    if guess > secret_number:\n",
    "        print(\"Lower...\")\n",
    "    elif guess < secret_number:\n",
    "        print(\"Higher...\")\n",
    "    tries += 1\n",
    " \n",
    "print('You guessed it! The number was {} in {} tries'.format(guess, tries))\n"
   ]
  },
  {
   "cell_type": "code",
   "execution_count": null,
   "metadata": {},
   "outputs": [],
   "source": []
  }
 ],
 "metadata": {
  "kernelspec": {
   "display_name": "Python 3",
   "language": "python",
   "name": "python3"
  },
  "language_info": {
   "codemirror_mode": {
    "name": "ipython",
    "version": 3
   },
   "file_extension": ".py",
   "mimetype": "text/x-python",
   "name": "python",
   "nbconvert_exporter": "python",
   "pygments_lexer": "ipython3",
   "version": "3.7.4"
  }
 },
 "nbformat": 4,
 "nbformat_minor": 2
}
