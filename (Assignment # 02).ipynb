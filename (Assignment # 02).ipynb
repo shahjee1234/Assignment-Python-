{
 "cells": [
  {
   "cell_type": "code",
   "execution_count": 1,
   "metadata": {},
   "outputs": [
    {
     "name": "stdout",
     "output_type": "stream",
     "text": [
      "Enter marks of the first subject:67\n",
      "Enter marks of the second subject: 89\n",
      "Enter marks of the third subject: 98\n",
      "Enter marks of the fourth subject: 50\n",
      "Enter marks of the fifth subject: 40\n",
      "Congrulations you achieved A\n"
     ]
    }
   ],
   "source": [
    "sub1=int(input(\"Enter marks of the first subject:\"))\n",
    "sub2=int(input(\"Enter marks of the second subject: \"))\n",
    "sub3=int(input(\"Enter marks of the third subject: \"))\n",
    "sub4=int(input(\"Enter marks of the fourth subject: \"))\n",
    "sub5=int(input(\"Enter marks of the fifth subject: \"))\n",
    "avg=(sub1+sub2+sub3+sub4+sub4)/5\n",
    "if avg >= 80 and avg <= 100:\n",
    "    print(\" Congrulations you achieved A+\")\n",
    "elif avg >= 70 and avg <= 80:\n",
    "    print(\"Congrulations you achieved A\")\n",
    "elif avg >= 60 and avg <= 70:\n",
    "    print(\"Congrulations you achieved B\")\n",
    "elif avg >= 50 and avg <= 60:\n",
    "    print(\"You achieved C\")\n",
    "elif avg >= 40 and avg <= 50:\n",
    "    print(\"You achieved D\")\n",
    "elif avg >= 33 and avg <= 40:\n",
    "    print(\"You achieved E\")\n",
    "elif avg >= 0 and avg <= 33:\n",
    "    print(\"You are FAIL\")\n",
    "else:\n",
    "    print(\"You have given inappropriate %\")"
   ]
  },
  {
   "cell_type": "code",
   "execution_count": 2,
   "metadata": {},
   "outputs": [
    {
     "name": "stdout",
     "output_type": "stream",
     "text": [
      "Enter a number: 6\n",
      "6 is Even\n"
     ]
    }
   ],
   "source": [
    "num = int(input(\"Enter a number: \"))\n",
    "if (num % 2) == 0:\n",
    "   print(\"{0} is Even\".format(num))\n",
    "else:\n",
    "   print(\"{0} is Odd\".format(num))"
   ]
  },
  {
   "cell_type": "code",
   "execution_count": 3,
   "metadata": {},
   "outputs": [
    {
     "name": "stdout",
     "output_type": "stream",
     "text": [
      "The length of list is:  10\n"
     ]
    }
   ],
   "source": [
    "n = len([10, 20, 30, 40, 50, 60, 70, 80, 90, 100]) \n",
    "print(\"The length of list is: \", n) "
   ]
  },
  {
   "cell_type": "code",
   "execution_count": 4,
   "metadata": {},
   "outputs": [
    {
     "name": "stdout",
     "output_type": "stream",
     "text": [
      "11\n"
     ]
    }
   ],
   "source": [
    "def sum_list(items):\n",
    "    sum_numbers = 0\n",
    "    for x in items:\n",
    "        sum_numbers += x\n",
    "    return sum_numbers\n",
    "print(sum_list([1,2,8]))\n"
   ]
  },
  {
   "cell_type": "code",
   "execution_count": 5,
   "metadata": {},
   "outputs": [
    {
     "name": "stdout",
     "output_type": "stream",
     "text": [
      "Largest element is: 8000\n"
     ]
    }
   ],
   "source": [
    "list = [10, 20, 4, 8000, 45, 99, 100 ,500 ,600] \n",
    "  \n",
    "print(\"Largest element is:\", max(list)) \n"
   ]
  },
  {
   "cell_type": "code",
   "execution_count": 6,
   "metadata": {},
   "outputs": [
    {
     "name": "stdout",
     "output_type": "stream",
     "text": [
      "1\n",
      "1\n",
      "2\n",
      "3\n"
     ]
    }
   ],
   "source": [
    "a = [1, 1, 2, 3, 5, 8, 13, 21, 34, 55, 89]\n",
    "\n",
    "for i in a:\n",
    "\n",
    "    if i < 5:\n",
    "\n",
    "        print(i)"
   ]
  },
  {
   "cell_type": "code",
   "execution_count": null,
   "metadata": {},
   "outputs": [],
   "source": []
  }
 ],
 "metadata": {
  "kernelspec": {
   "display_name": "Python 3",
   "language": "python",
   "name": "python3"
  },
  "language_info": {
   "codemirror_mode": {
    "name": "ipython",
    "version": 3
   },
   "file_extension": ".py",
   "mimetype": "text/x-python",
   "name": "python",
   "nbconvert_exporter": "python",
   "pygments_lexer": "ipython3",
   "version": "3.7.4"
  }
 },
 "nbformat": 4,
 "nbformat_minor": 2
}
