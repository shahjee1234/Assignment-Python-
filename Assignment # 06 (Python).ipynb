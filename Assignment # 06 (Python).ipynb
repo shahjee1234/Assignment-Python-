{
 "cells": [
  {
   "cell_type": "code",
   "execution_count": 4,
   "metadata": {},
   "outputs": [
    {
     "name": "stdout",
     "output_type": "stream",
     "text": [
      "Corolla\n",
      "white\n",
      "2019\n",
      "hydraulics\n",
      "1300\n",
      "TOYOTA\n",
      "\n",
      "updated name:\n",
      " Honda.___\n",
      "Hello my car name is Corolla\n"
     ]
    }
   ],
   "source": [
    "# QUESTION 5\n",
    "\n",
    "class Cars():\n",
    "    def __init__(self,name,color,model,brake,cc):\n",
    "        self.name = name\n",
    "        self.color= color\n",
    "        self.model= model\n",
    "        self.brake= brake\n",
    "        self.cc= cc\n",
    "        self.company_name=\"TOYOTA\"\n",
    "    \n",
    "    def update_companyname(t,newname):\n",
    "        t.company_name = newname\n",
    "        \n",
    "    def myfunc(self):\n",
    "        print(\"Hello my car name is \" + self.name)\n",
    "        \n",
    "        \n",
    "instance_1 = Cars('Corolla','white',2019,'hydraulics','1300')\n",
    "\n",
    "\n",
    "print(instance_1.name)\n",
    "print(instance_1.color)\n",
    "print(instance_1.model)\n",
    "print(instance_1.brake)\n",
    "print(instance_1.cc)\n",
    "print(instance_1.company_name)\n",
    "print('\\nupdated name:',)\n",
    "\n",
    "instance_1.update_companyname(' Honda.___')\n",
    "print(instance_1.company_name)\n",
    "\n",
    "instance_1.myfunc()"
   ]
  },
  {
   "cell_type": "markdown",
   "metadata": {},
   "source": [
    "# Question # 01:\n",
    "\n",
    "ANS:\n",
    "\n",
    "Object-oriented programming (OOP) refers to a type of computer programming (software design) in which programmers define the data type of a data structure, and also the types of operations (functions) that can be applied to the data structure.\n",
    "\n",
    "In this way, the data structure becomes an object that includes both data and functions. In addition, programmers can create relationships between one object and another. For example, objects can inherit characteristics from other objects.\n",
    "\n",
    "# Question # 02:\n",
    "\n",
    "ANS:\n",
    "\n",
    "One of the principal advantages of object-oriented programming techniques over procedural programming techniques is that they enable programmers to create modules that do not need to be changed when a new type of object is added. A programmer can simply create a new object that inherits many of its features from existing objects. This makes object-oriented programs easier to modify.\n",
    "\n",
    "# Question # 03:\n",
    "\n",
    "Ans:\n",
    "\n",
    "function:\n",
    "Python function is a sequence of statements that execute in a certain order, given a name. They let us implement code reusability. When we talked about Python Functions, we talked about built-in and user-defined functions.\n",
    "def add(a,b):\n",
    "return a+b\n",
    "add(3,-3)\n",
    "\n",
    "method:\n",
    "Python method is like a function, except it is attached to an object. We call a method on an object, and it possibly makes changes to that object. A method, then, belongs to a class.\n",
    "\n",
    "# Question # 04:\n",
    "\n",
    "ANS:\n",
    "\n",
    "Class:\n",
    "\n",
    "     A category of objects. The class defines all the common properties of the different objects that belong to it.\n",
    "\n",
    "Object:\n",
    "\n",
    "       A self-contained entity that consists of both data and procedures to manipulate the data.\n",
    "\n",
    "Atribute:\n",
    "\n",
    "         A class attribute is a Python variable that belongs to a class rather than a particular object. It is shared between all the objects of this class and it is defined outside the constructor function of the class.\n",
    "\n",
    "Behaviour:\n",
    "\n",
    "          Behavior-driven development using Python's 'behave' framework can help your team achieve better collaboration and test automation.\n",
    "\n",
    "\n"
   ]
  }
 ],
 "metadata": {
  "kernelspec": {
   "display_name": "Python 3",
   "language": "python",
   "name": "python3"
  },
  "language_info": {
   "codemirror_mode": {
    "name": "ipython",
    "version": 3
   },
   "file_extension": ".py",
   "mimetype": "text/x-python",
   "name": "python",
   "nbconvert_exporter": "python",
   "pygments_lexer": "ipython3",
   "version": "3.7.4"
  }
 },
 "nbformat": 4,
 "nbformat_minor": 2
}
